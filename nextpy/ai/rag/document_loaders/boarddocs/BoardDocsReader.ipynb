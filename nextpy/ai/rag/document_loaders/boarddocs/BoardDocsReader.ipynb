{
 "cells": [
  {
   "cell_type": "markdown",
   "id": "a8fda9ff",
   "metadata": {},
   "source": [
    "# Bored Llama: BoardDocs in LLaMA Index!\n",
    "\n",
    "This is a fun experiment to see if we can crawl a BoardDocs site to index it for LangChain fun."
   ]
  },
  {
   "cell_type": "code",
   "execution_count": null,
   "id": "013bd7f3",
   "metadata": {},
   "outputs": [],
   "source": [
    "import sys\n",
    "from nextpy.ai import download_loader\n",
    "\n",
    "# Use the temporary / staging location to exercise the loader before first checkin lands\n",
    "BoardDocsReader = download_loader(\"BoardDocsReader\",\n",
    "                                  loader_hub_url=\"https://raw.githubusercontent.com/dweekly/llama-hub/boarddocs/llama_hub\",\n",
    "                                  refresh_cache=True)\n",
    "loader = BoardDocsReader(site=\"ca/redwood\", committee_id=\"A4EP6J588C05\")"
   ]
  },
  {
   "cell_type": "code",
   "execution_count": null,
   "id": "27e1a431",
   "metadata": {},
   "outputs": [],
   "source": [
    "# now the data is loaded, query it\n",
    "from nextpy.ai import GPTSimpleVectorIndex\n",
    "\n",
    "# load all meetings from this committee.\n",
    "documents = loader.load_data(meeting_ids=[\"CPSNV9612DF1\"])\n",
    "\n",
    "# build an index\n",
    "index = GPTSimpleVectorIndex.from_documents(documents)\n"
   ]
  },
  {
   "cell_type": "code",
   "execution_count": null,
   "id": "f1701638",
   "metadata": {},
   "outputs": [],
   "source": [
    "# Now we can start asking it questions!!\n",
    "answer = index.query('When did Trustee Weekly start attending meetings?')\n",
    "print(answer.response)\n"
   ]
  }
 ],
 "metadata": {
  "kernelspec": {
   "display_name": "Python 3 (ipykernel)",
   "language": "python",
   "name": "python3"
  },
  "language_info": {
   "codemirror_mode": {
    "name": "ipython",
    "version": 3
   },
   "file_extension": ".py",
   "mimetype": "text/x-python",
   "name": "python",
   "nbconvert_exporter": "python",
   "pygments_lexer": "ipython3",
   "version": "3.11.3"
  }
 },
 "nbformat": 4,
 "nbformat_minor": 5
}
