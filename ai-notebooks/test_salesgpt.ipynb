{
 "cells": [
  {
   "cell_type": "code",
   "execution_count": 8,
   "metadata": {},
   "outputs": [],
   "source": [
    "from salesGPT.agent import SalesAgent\n",
    "\n",
    "agent = SalesAgent()"
   ]
  },
  {
   "cell_type": "code",
   "execution_count": 9,
   "metadata": {},
   "outputs": [
    {
     "data": {
      "text/plain": [
       "'Ted Lasso: Hey there! This is Ted Lasso calling from Sleep Haven. How are you doing today? <END_OF_TURN>'"
      ]
     },
     "execution_count": 9,
     "metadata": {},
     "output_type": "execute_result"
    }
   ],
   "source": [
    "# assuming user picked up the phone and says hello first\n",
    "\n",
    "agent.run(user_text = \"hello!?\")"
   ]
  },
  {
   "cell_type": "code",
   "execution_count": 10,
   "metadata": {},
   "outputs": [
    {
     "data": {
      "text/plain": [
       "\"Ted Lasso: That's great to hear! I hope I'm not interrupting anything important. I wanted to talk to you about how Sleep Haven can help you achieve a better night's sleep. Are you currently looking for a new mattress or sleep solution? <END_OF_TURN>\""
      ]
     },
     "execution_count": 10,
     "metadata": {},
     "output_type": "execute_result"
    }
   ],
   "source": [
    "agent.run(user_text = \"Good!\")"
   ]
  },
  {
   "cell_type": "code",
   "execution_count": 11,
   "metadata": {},
   "outputs": [
    {
     "data": {
      "text/plain": [
       "\"Ted Lasso: Fantastic! We have a great selection of queen size mattresses at Sleep Haven. Our mattresses are designed to provide the most comfortable and supportive sleeping experience possible. Can you please tell me a bit more about what you're looking for in a mattress? Are there any specific features or preferences you have in mind? <END_OF_TURN>\""
      ]
     },
     "execution_count": 11,
     "metadata": {},
     "output_type": "execute_result"
    }
   ],
   "source": [
    "agent.run(user_text = \"Yes, I am looking for 6 inches queen size mattresses\")"
   ]
  },
  {
   "cell_type": "code",
   "execution_count": 12,
   "metadata": {},
   "outputs": [
    {
     "data": {
      "text/plain": [
       "\"Ted Lasso: That's great to hear that you're interested in purchasing 10 units of our queen size mattresses! We offer a range of options to suit different budgets and preferences. Our prices for queen size mattresses typically start at $500 and go up to $2000, depending on the specific model and features you choose. As for discounts, we do have promotions and special offers available from time to time. Can I ask if you have a specific budget in mind for your purchase? <END_OF_TURN>\""
      ]
     },
     "execution_count": 12,
     "metadata": {},
     "output_type": "execute_result"
    }
   ],
   "source": [
    "agent.run(user_text = \"I am thinking of buying 10 units of it. At what range I can get that and are there any discounts available?\")"
   ]
  }
 ],
 "metadata": {
  "kernelspec": {
   "display_name": "dotagent",
   "language": "python",
   "name": "python3"
  },
  "language_info": {
   "codemirror_mode": {
    "name": "ipython",
    "version": 3
   },
   "file_extension": ".py",
   "mimetype": "text/x-python",
   "name": "python",
   "nbconvert_exporter": "python",
   "pygments_lexer": "ipython3",
   "version": "3.11.3"
  },
  "orig_nbformat": 4
 },
 "nbformat": 4,
 "nbformat_minor": 2
}
