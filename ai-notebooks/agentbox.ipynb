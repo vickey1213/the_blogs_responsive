{
 "cells": [
  {
   "cell_type": "code",
   "execution_count": null,
   "metadata": {},
   "outputs": [],
   "source": [
    "import sys\n",
    "sys.path.append(\"..\")\n",
    "\n",
    "import nextpy.ai\n",
    "from nextpy.ai.engine.llms._openai import OpenAI as llm\n",
    "import os\n",
    "\n",
    "def load_environment_variables():\n",
    "    load_dotenv()\n",
    "    return {\n",
    "        \"openai_api_key\": os.getenv(\"OPENAI_API_KEY\")\n",
    "    }\n",
    "\n",
    "# Initialize the OpenAI client with the API key\n",
    "env_vars = load_environment_variables()\n",
    "api_key=env_vars[\"openai_api_key\"]\n",
    "\n",
    "\n",
    "llmcc = llm(\n",
    "    model=\"gpt-3.5-turbo\", api_key = api_key\n",
    ")"
   ]
  },
  {
   "cell_type": "code",
   "execution_count": null,
   "metadata": {},
   "outputs": [],
   "source": [
    "chat_template = '''\n",
    "                {{#user~}}\n",
    "                I want to translate the following English text into Python code:\n",
    "                QUERY: {{input}}\n",
    "                {{~/user}}\n",
    "\n",
    "                {{#assistant~}}\n",
    "                Sure, I can assist with that. If I need more information, I'll ask for clarification.\n",
    "                {{~/assistant}}\n",
    "\n",
    "                {{#user~}}\n",
    "                Yes, go ahead and write the complete code.\n",
    "                {{~/user}}\n",
    "\n",
    "                {{#assistant~}}\n",
    "                {{gen 'response' temperature=0 max_tokens=3900}}\n",
    "                {{~/assistant}}\n",
    "\n",
    "                {{#assistant~}}\n",
    "                If the context or the task is not clear, please provide additional information to clarify.\n",
    "                {{~/assistant}}'''"
   ]
  },
  {
   "cell_type": "code",
   "execution_count": null,
   "metadata": {},
   "outputs": [],
   "source": [
    "from nextpy.ai.agent.chat import ChatAgent\n",
    "\n",
    "agent = ChatAgent(\n",
    "    llm=llmcc,\n",
    "    prompt_template=chat_template,\n",
    "    )"
   ]
  },
  {
   "cell_type": "code",
   "execution_count": null,
   "metadata": {},
   "outputs": [],
   "source": [
    "gpt_prompt = \"\"\"calculate my age using python program. Give answer in year, months, and days. \n",
    "Use my date of birth as 04/04/1998.\"\"\"\n",
    "\n",
    "res = agent.run(input=gpt_prompt)"
   ]
  },
  {
   "cell_type": "code",
   "execution_count": null,
   "metadata": {},
   "outputs": [],
   "source": [
    "import base64\n",
    "\n",
    "encoded_res = base64.b64encode(res.encode()).decode()\n",
    "\n",
    "%run agentbox01.py --response '''{encoded_res}'''"
   ]
  },
  {
   "cell_type": "code",
   "execution_count": null,
   "metadata": {},
   "outputs": [],
   "source": [
    "%run agentbox.py --gpt_prompt \"calculate my age using python program. Give answer in year, months, and days. Use my date of birth as 04/04/1998.\""
   ]
  }
 ],
 "metadata": {
  "kernelspec": {
   "display_name": "Python 3",
   "language": "python",
   "name": "python3"
  },
  "language_info": {
   "codemirror_mode": {
    "name": "ipython",
    "version": 3
   },
   "file_extension": ".py",
   "mimetype": "text/x-python",
   "name": "python",
   "nbconvert_exporter": "python",
   "pygments_lexer": "ipython3",
   "version": "3.9.2"
  },
  "orig_nbformat": 4
 },
 "nbformat": 4,
 "nbformat_minor": 2
}
